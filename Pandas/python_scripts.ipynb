{
 "cells": [
  {
   "cell_type": "code",
   "execution_count": 2,
   "id": "66c7932e",
   "metadata": {},
   "outputs": [],
   "source": [
    "import pandas as pd"
   ]
  },
  {
   "cell_type": "code",
   "execution_count": null,
   "id": "8f061843",
   "metadata": {},
   "outputs": [],
   "source": [
    "df1 = pd.read_csv('employees.csv')\n",
    "df2 = pd.read_csv('salaries.csv')\n",
    "\n",
    "df_merge = pd.merge(df1, df2)"
   ]
  },
  {
   "cell_type": "markdown",
   "id": "80648147",
   "metadata": {},
   "source": [
    "Exercises with Joins:\n",
    "Inner Join: Join employees.csv with salaries.csv on EmployeeID to get the salary details for each employee.\n",
    "Left Join: Join employees.csv with departments.csv on Department to get the department manager for each employee.\n",
    "Right Join: Join employees.csv with projects.csv on EmployeeID to get the projects assigned to employees, including those with no project.\n",
    "Full Outer Join: Join salaries.csv with locations.csv on EmployeeID to get salary and location for all employees, even if some information is missing in one of the tables.\n",
    "Self Join: Join employees.csv with itself based on Department to get the list of employees in the same department as a specific employee.\n",
    "\n",
    "Exercise 1-20:\n",
    "1. Load a CSV file into a pandas DataFrame.\n",
    "2. Check the first 5 rows of the DataFrame.\n",
    "3. Get the shape of the DataFrame (rows, columns).\n",
    "4. Get summary statistics (mean, median, mode, std) of numerical columns.\n",
    "5. Get the data types of each column.\n",
    "6. Check for missing values in each column.\n",
    "7. Rename a column in the DataFrame.\n",
    "8. Filter the DataFrame to get rows where a column value is greater than a certain number.\n",
    "9. Select specific columns from the DataFrame.\n",
    "10. Drop a column from the DataFrame.\n",
    "11. Apply a transformation to a column (e.g., multiply each value by 2).\n",
    "12. Add a new column based on an operation on existing columns.\n",
    "13. Group the data by a categorical column and get the mean of each group.\n",
    "14. Sort the DataFrame based on a specific column.\n",
    "15. Merge two DataFrames on a common column.\n",
    "16. Join two DataFrames using an index.\n",
    "17. Apply a function to each element in a column using .apply().\n",
    "18. Create a new DataFrame by filtering rows based on multiple conditions.\n",
    "19. Convert a column from string to a numeric type.\n",
    "20. Save the modified DataFrame to a new CSV file."
   ]
  },
  {
   "cell_type": "markdown",
   "id": "060a2ce9",
   "metadata": {},
   "source": [
    "1. Load a CSV file into a pandas DataFrame. "
   ]
  },
  {
   "cell_type": "code",
   "execution_count": 3,
   "id": "88e5a3b5",
   "metadata": {},
   "outputs": [],
   "source": [
    "df_employees = pd.read_csv('csv_files/employees.csv')\n",
    "df_salaries = pd.read_csv('csv_files/salaries.csv')\n",
    "df_departments = pd.read_csv('csv_files/departments.csv')\n",
    "df_locations = pd.read_csv('csv_files/locations.csv')\n",
    "df_projects = pd.read_csv('csv_files/projects.csv')                "
   ]
  },
  {
   "cell_type": "markdown",
   "id": "d88c04fc",
   "metadata": {},
   "source": [
    "2. Check the first 5 rows of the DataFrame."
   ]
  },
  {
   "cell_type": "code",
   "execution_count": 5,
   "id": "a5651a4d",
   "metadata": {},
   "outputs": [
    {
     "data": {
      "text/html": [
       "<div>\n",
       "<style scoped>\n",
       "    .dataframe tbody tr th:only-of-type {\n",
       "        vertical-align: middle;\n",
       "    }\n",
       "\n",
       "    .dataframe tbody tr th {\n",
       "        vertical-align: top;\n",
       "    }\n",
       "\n",
       "    .dataframe thead th {\n",
       "        text-align: right;\n",
       "    }\n",
       "</style>\n",
       "<table border=\"1\" class=\"dataframe\">\n",
       "  <thead>\n",
       "    <tr style=\"text-align: right;\">\n",
       "      <th></th>\n",
       "      <th>EmployeeID</th>\n",
       "      <th>Name</th>\n",
       "      <th>Department</th>\n",
       "      <th>Salary</th>\n",
       "    </tr>\n",
       "  </thead>\n",
       "  <tbody>\n",
       "    <tr>\n",
       "      <th>0</th>\n",
       "      <td>1</td>\n",
       "      <td>John</td>\n",
       "      <td>Engineering</td>\n",
       "      <td>55000</td>\n",
       "    </tr>\n",
       "    <tr>\n",
       "      <th>1</th>\n",
       "      <td>2</td>\n",
       "      <td>Anna</td>\n",
       "      <td>Marketing</td>\n",
       "      <td>46000</td>\n",
       "    </tr>\n",
       "    <tr>\n",
       "      <th>2</th>\n",
       "      <td>3</td>\n",
       "      <td>Peter</td>\n",
       "      <td>Engineering</td>\n",
       "      <td>60000</td>\n",
       "    </tr>\n",
       "    <tr>\n",
       "      <th>3</th>\n",
       "      <td>4</td>\n",
       "      <td>Linda</td>\n",
       "      <td>HR</td>\n",
       "      <td>75000</td>\n",
       "    </tr>\n",
       "    <tr>\n",
       "      <th>4</th>\n",
       "      <td>5</td>\n",
       "      <td>James</td>\n",
       "      <td>Marketing</td>\n",
       "      <td>49000</td>\n",
       "    </tr>\n",
       "  </tbody>\n",
       "</table>\n",
       "</div>"
      ],
      "text/plain": [
       "   EmployeeID   Name   Department  Salary\n",
       "0           1   John  Engineering   55000\n",
       "1           2   Anna    Marketing   46000\n",
       "2           3  Peter  Engineering   60000\n",
       "3           4  Linda           HR   75000\n",
       "4           5  James    Marketing   49000"
      ]
     },
     "execution_count": 5,
     "metadata": {},
     "output_type": "execute_result"
    }
   ],
   "source": [
    "df_employees.head(5)"
   ]
  },
  {
   "cell_type": "markdown",
   "id": "1601f3bd",
   "metadata": {},
   "source": [
    "3. Get the shape of the DataFrame (rows, columns). "
   ]
  },
  {
   "cell_type": "code",
   "execution_count": 7,
   "id": "1c253973",
   "metadata": {},
   "outputs": [
    {
     "data": {
      "text/plain": [
       "(10, 4)"
      ]
     },
     "execution_count": 7,
     "metadata": {},
     "output_type": "execute_result"
    }
   ],
   "source": [
    "df_employees.shape"
   ]
  },
  {
   "cell_type": "code",
   "execution_count": 9,
   "id": "e8761fb7",
   "metadata": {},
   "outputs": [
    {
     "data": {
      "text/plain": [
       "4"
      ]
     },
     "execution_count": 9,
     "metadata": {},
     "output_type": "execute_result"
    }
   ],
   "source": [
    "df_employees.shape[1]"
   ]
  },
  {
   "cell_type": "markdown",
   "id": "4201468d",
   "metadata": {},
   "source": [
    "4. Get summary statistics (mean, median, mode, std) of numerical columns. "
   ]
  },
  {
   "cell_type": "code",
   "execution_count": 22,
   "id": "9e73dc5b",
   "metadata": {},
   "outputs": [
    {
     "name": "stdout",
     "output_type": "stream",
     "text": [
      "Mean  Salary    61900.0\n",
      "dtype: float64\n",
      "Median  Salary    57500.0\n",
      "dtype: float64\n",
      "Mode  0    43000\n",
      "1    46000\n",
      "2    49000\n",
      "3    52000\n",
      "4    55000\n",
      "5    60000\n",
      "6    67000\n",
      "7    75000\n",
      "8    82000\n",
      "9    90000\n",
      "Name: Salary, dtype: int64\n",
      "Std  Salary    16044.729145\n",
      "dtype: float64\n"
     ]
    }
   ],
   "source": [
    "print(\"Mean \",df_employees[['Salary']].mean())\n",
    "print(\"Median \",df_employees[['Salary']].median())\n",
    "print(\"Mode \",df_employees['Salary'].mode())\n",
    "print(\"Std \",df_employees[['Salary']].std())"
   ]
  },
  {
   "cell_type": "code",
   "execution_count": 32,
   "id": "d90a11a3",
   "metadata": {},
   "outputs": [
    {
     "data": {
      "text/html": [
       "<div>\n",
       "<style scoped>\n",
       "    .dataframe tbody tr th:only-of-type {\n",
       "        vertical-align: middle;\n",
       "    }\n",
       "\n",
       "    .dataframe tbody tr th {\n",
       "        vertical-align: top;\n",
       "    }\n",
       "\n",
       "    .dataframe thead th {\n",
       "        text-align: right;\n",
       "    }\n",
       "</style>\n",
       "<table border=\"1\" class=\"dataframe\">\n",
       "  <thead>\n",
       "    <tr style=\"text-align: right;\">\n",
       "      <th></th>\n",
       "      <th>EmployeeID</th>\n",
       "      <th>Salary</th>\n",
       "    </tr>\n",
       "  </thead>\n",
       "  <tbody>\n",
       "    <tr>\n",
       "      <th>count</th>\n",
       "      <td>10.00000</td>\n",
       "      <td>10.000000</td>\n",
       "    </tr>\n",
       "    <tr>\n",
       "      <th>mean</th>\n",
       "      <td>5.50000</td>\n",
       "      <td>61900.000000</td>\n",
       "    </tr>\n",
       "    <tr>\n",
       "      <th>std</th>\n",
       "      <td>3.02765</td>\n",
       "      <td>16044.729145</td>\n",
       "    </tr>\n",
       "    <tr>\n",
       "      <th>min</th>\n",
       "      <td>1.00000</td>\n",
       "      <td>43000.000000</td>\n",
       "    </tr>\n",
       "    <tr>\n",
       "      <th>25%</th>\n",
       "      <td>3.25000</td>\n",
       "      <td>49750.000000</td>\n",
       "    </tr>\n",
       "    <tr>\n",
       "      <th>50%</th>\n",
       "      <td>5.50000</td>\n",
       "      <td>57500.000000</td>\n",
       "    </tr>\n",
       "    <tr>\n",
       "      <th>75%</th>\n",
       "      <td>7.75000</td>\n",
       "      <td>73000.000000</td>\n",
       "    </tr>\n",
       "    <tr>\n",
       "      <th>max</th>\n",
       "      <td>10.00000</td>\n",
       "      <td>90000.000000</td>\n",
       "    </tr>\n",
       "  </tbody>\n",
       "</table>\n",
       "</div>"
      ],
      "text/plain": [
       "       EmployeeID        Salary\n",
       "count    10.00000     10.000000\n",
       "mean      5.50000  61900.000000\n",
       "std       3.02765  16044.729145\n",
       "min       1.00000  43000.000000\n",
       "25%       3.25000  49750.000000\n",
       "50%       5.50000  57500.000000\n",
       "75%       7.75000  73000.000000\n",
       "max      10.00000  90000.000000"
      ]
     },
     "execution_count": 32,
     "metadata": {},
     "output_type": "execute_result"
    }
   ],
   "source": [
    "df_employees.describe()"
   ]
  },
  {
   "cell_type": "markdown",
   "id": "81ebd5d8",
   "metadata": {},
   "source": [
    "5. Get the data types of each column."
   ]
  },
  {
   "cell_type": "code",
   "execution_count": 28,
   "id": "d8b81f35",
   "metadata": {},
   "outputs": [
    {
     "name": "stdout",
     "output_type": "stream",
     "text": [
      "EmployeeID     int64\n",
      "Name          object\n",
      "Department    object\n",
      "Salary         int64\n",
      "dtype: object\n",
      "DepartmentID     int64\n",
      "Department      object\n",
      "Manager         object\n",
      "dtype: object\n",
      "EmployeeID     int64\n",
      "Location      object\n",
      "dtype: object\n",
      "ProjectID       int64\n",
      "EmployeeID      int64\n",
      "ProjectName    object\n",
      "dtype: object\n",
      "EmployeeID    int64\n",
      "Salary        int64\n",
      "Bonus         int64\n",
      "dtype: object\n"
     ]
    }
   ],
   "source": [
    "print(df_employees.dtypes)\n",
    "print(df_departments.dtypes)\n",
    "print(df_locations.dtypes)\n",
    "print(df_projects.dtypes)\n",
    "print(df_salaries.dtypes)"
   ]
  },
  {
   "cell_type": "markdown",
   "id": "602c6bfb",
   "metadata": {},
   "source": [
    "6. Check for missing values in each column. "
   ]
  },
  {
   "cell_type": "code",
   "execution_count": 37,
   "id": "b7b87bc4",
   "metadata": {},
   "outputs": [
    {
     "name": "stdout",
     "output_type": "stream",
     "text": [
      "EmployeeID    0\n",
      "Name          0\n",
      "Department    0\n",
      "Salary        0\n",
      "dtype: int64\n",
      "DepartmentID    0\n",
      "Department      0\n",
      "Manager         0\n",
      "dtype: int64\n",
      "EmployeeID    0\n",
      "Location      0\n",
      "dtype: int64\n",
      "ProjectID      0\n",
      "EmployeeID     0\n",
      "ProjectName    0\n",
      "dtype: int64\n",
      "DepartmentID    0\n",
      "Department      0\n",
      "Manager         0\n",
      "dtype: int64\n"
     ]
    }
   ],
   "source": [
    "print(df_employees.isnull().sum())\n",
    "print(df_departments.isnull().sum())\n",
    "print(df_locations.isnull().sum())\n",
    "print(df_projects.isnull().sum())\n",
    "print(df_departments.isnull().sum())"
   ]
  },
  {
   "cell_type": "markdown",
   "id": "c5602f1b",
   "metadata": {},
   "source": [
    "7. Rename a column in the DataFrame"
   ]
  },
  {
   "cell_type": "code",
   "execution_count": 64,
   "id": "87be5312",
   "metadata": {},
   "outputs": [
    {
     "name": "stdout",
     "output_type": "stream",
     "text": [
      "   EmpID       Name   Department  Salary\n",
      "0      1       John  Engineering   55000\n",
      "1      2       Anna    Marketing   46000\n",
      "2      3      Peter  Engineering   60000\n",
      "3      4      Linda           HR   75000\n",
      "4      5      James    Marketing   49000\n",
      "5      6   Patricia  Engineering   52000\n",
      "6      7    Michael           HR   82000\n",
      "7      8  Elizabeth  Engineering   67000\n",
      "8      9      David    Marketing   43000\n",
      "9     10      Susan           HR   90000\n"
     ]
    }
   ],
   "source": [
    "df_employees.rename(columns={'EmployeeID': 'EmpID'}, inplace=True)\n",
    "print (df_employees)"
   ]
  },
  {
   "cell_type": "code",
   "execution_count": 65,
   "id": "ef593fca",
   "metadata": {},
   "outputs": [
    {
     "name": "stdout",
     "output_type": "stream",
     "text": [
      "   EmployeeID       Name         Dept  Salary\n",
      "0           1       John  Engineering   55000\n",
      "1           2       Anna    Marketing   46000\n",
      "2           3      Peter  Engineering   60000\n",
      "3           4      Linda           HR   75000\n",
      "4           5      James    Marketing   49000\n",
      "5           6   Patricia  Engineering   52000\n",
      "6           7    Michael           HR   82000\n",
      "7           8  Elizabeth  Engineering   67000\n",
      "8           9      David    Marketing   43000\n",
      "9          10      Susan           HR   90000\n"
     ]
    }
   ],
   "source": [
    "df_employees.columns = ['EmployeeID', 'Name', 'Dept', 'Salary']\n",
    "print (df_employees)"
   ]
  },
  {
   "cell_type": "markdown",
   "id": "e977833e",
   "metadata": {},
   "source": [
    "8. Filter the DataFrame to get rows where a column value is greater than a certain number. "
   ]
  },
  {
   "cell_type": "code",
   "execution_count": 66,
   "id": "c59df375",
   "metadata": {},
   "outputs": [
    {
     "data": {
      "text/html": [
       "<div>\n",
       "<style scoped>\n",
       "    .dataframe tbody tr th:only-of-type {\n",
       "        vertical-align: middle;\n",
       "    }\n",
       "\n",
       "    .dataframe tbody tr th {\n",
       "        vertical-align: top;\n",
       "    }\n",
       "\n",
       "    .dataframe thead th {\n",
       "        text-align: right;\n",
       "    }\n",
       "</style>\n",
       "<table border=\"1\" class=\"dataframe\">\n",
       "  <thead>\n",
       "    <tr style=\"text-align: right;\">\n",
       "      <th></th>\n",
       "      <th>EmployeeID</th>\n",
       "      <th>Name</th>\n",
       "      <th>Dept</th>\n",
       "      <th>Salary</th>\n",
       "    </tr>\n",
       "  </thead>\n",
       "  <tbody>\n",
       "    <tr>\n",
       "      <th>3</th>\n",
       "      <td>4</td>\n",
       "      <td>Linda</td>\n",
       "      <td>HR</td>\n",
       "      <td>75000</td>\n",
       "    </tr>\n",
       "    <tr>\n",
       "      <th>6</th>\n",
       "      <td>7</td>\n",
       "      <td>Michael</td>\n",
       "      <td>HR</td>\n",
       "      <td>82000</td>\n",
       "    </tr>\n",
       "    <tr>\n",
       "      <th>7</th>\n",
       "      <td>8</td>\n",
       "      <td>Elizabeth</td>\n",
       "      <td>Engineering</td>\n",
       "      <td>67000</td>\n",
       "    </tr>\n",
       "    <tr>\n",
       "      <th>9</th>\n",
       "      <td>10</td>\n",
       "      <td>Susan</td>\n",
       "      <td>HR</td>\n",
       "      <td>90000</td>\n",
       "    </tr>\n",
       "  </tbody>\n",
       "</table>\n",
       "</div>"
      ],
      "text/plain": [
       "   EmployeeID       Name         Dept  Salary\n",
       "3           4      Linda           HR   75000\n",
       "6           7    Michael           HR   82000\n",
       "7           8  Elizabeth  Engineering   67000\n",
       "9          10      Susan           HR   90000"
      ]
     },
     "execution_count": 66,
     "metadata": {},
     "output_type": "execute_result"
    }
   ],
   "source": [
    "df_employees[df_employees['Salary'] > 60000]"
   ]
  },
  {
   "cell_type": "markdown",
   "id": "ebefd40b",
   "metadata": {},
   "source": [
    "9. Select specific columns from the DataFrame. "
   ]
  },
  {
   "cell_type": "code",
   "execution_count": 69,
   "id": "40ab88b8",
   "metadata": {},
   "outputs": [
    {
     "data": {
      "text/html": [
       "<div>\n",
       "<style scoped>\n",
       "    .dataframe tbody tr th:only-of-type {\n",
       "        vertical-align: middle;\n",
       "    }\n",
       "\n",
       "    .dataframe tbody tr th {\n",
       "        vertical-align: top;\n",
       "    }\n",
       "\n",
       "    .dataframe thead th {\n",
       "        text-align: right;\n",
       "    }\n",
       "</style>\n",
       "<table border=\"1\" class=\"dataframe\">\n",
       "  <thead>\n",
       "    <tr style=\"text-align: right;\">\n",
       "      <th></th>\n",
       "      <th>EmployeeID</th>\n",
       "      <th>Salary</th>\n",
       "    </tr>\n",
       "  </thead>\n",
       "  <tbody>\n",
       "    <tr>\n",
       "      <th>0</th>\n",
       "      <td>1</td>\n",
       "      <td>55000</td>\n",
       "    </tr>\n",
       "    <tr>\n",
       "      <th>1</th>\n",
       "      <td>2</td>\n",
       "      <td>46000</td>\n",
       "    </tr>\n",
       "    <tr>\n",
       "      <th>2</th>\n",
       "      <td>3</td>\n",
       "      <td>60000</td>\n",
       "    </tr>\n",
       "    <tr>\n",
       "      <th>3</th>\n",
       "      <td>4</td>\n",
       "      <td>75000</td>\n",
       "    </tr>\n",
       "    <tr>\n",
       "      <th>4</th>\n",
       "      <td>5</td>\n",
       "      <td>49000</td>\n",
       "    </tr>\n",
       "    <tr>\n",
       "      <th>5</th>\n",
       "      <td>6</td>\n",
       "      <td>52000</td>\n",
       "    </tr>\n",
       "    <tr>\n",
       "      <th>6</th>\n",
       "      <td>7</td>\n",
       "      <td>82000</td>\n",
       "    </tr>\n",
       "    <tr>\n",
       "      <th>7</th>\n",
       "      <td>8</td>\n",
       "      <td>67000</td>\n",
       "    </tr>\n",
       "    <tr>\n",
       "      <th>8</th>\n",
       "      <td>9</td>\n",
       "      <td>43000</td>\n",
       "    </tr>\n",
       "    <tr>\n",
       "      <th>9</th>\n",
       "      <td>10</td>\n",
       "      <td>90000</td>\n",
       "    </tr>\n",
       "  </tbody>\n",
       "</table>\n",
       "</div>"
      ],
      "text/plain": [
       "   EmployeeID  Salary\n",
       "0           1   55000\n",
       "1           2   46000\n",
       "2           3   60000\n",
       "3           4   75000\n",
       "4           5   49000\n",
       "5           6   52000\n",
       "6           7   82000\n",
       "7           8   67000\n",
       "8           9   43000\n",
       "9          10   90000"
      ]
     },
     "execution_count": 69,
     "metadata": {},
     "output_type": "execute_result"
    }
   ],
   "source": [
    "df_employees[['EmployeeID', 'Salary']]"
   ]
  },
  {
   "cell_type": "markdown",
   "id": "e03baabf",
   "metadata": {},
   "source": [
    "10. Drop a column from the DataFrame."
   ]
  },
  {
   "cell_type": "code",
   "execution_count": null,
   "id": "0cf86020",
   "metadata": {},
   "outputs": [
    {
     "data": {
      "text/html": [
       "<div>\n",
       "<style scoped>\n",
       "    .dataframe tbody tr th:only-of-type {\n",
       "        vertical-align: middle;\n",
       "    }\n",
       "\n",
       "    .dataframe tbody tr th {\n",
       "        vertical-align: top;\n",
       "    }\n",
       "\n",
       "    .dataframe thead th {\n",
       "        text-align: right;\n",
       "    }\n",
       "</style>\n",
       "<table border=\"1\" class=\"dataframe\">\n",
       "  <thead>\n",
       "    <tr style=\"text-align: right;\">\n",
       "      <th></th>\n",
       "      <th>ProjectID</th>\n",
       "      <th>EmployeeID</th>\n",
       "    </tr>\n",
       "  </thead>\n",
       "  <tbody>\n",
       "    <tr>\n",
       "      <th>0</th>\n",
       "      <td>101</td>\n",
       "      <td>1</td>\n",
       "    </tr>\n",
       "    <tr>\n",
       "      <th>1</th>\n",
       "      <td>102</td>\n",
       "      <td>2</td>\n",
       "    </tr>\n",
       "    <tr>\n",
       "      <th>2</th>\n",
       "      <td>103</td>\n",
       "      <td>3</td>\n",
       "    </tr>\n",
       "    <tr>\n",
       "      <th>3</th>\n",
       "      <td>104</td>\n",
       "      <td>4</td>\n",
       "    </tr>\n",
       "    <tr>\n",
       "      <th>4</th>\n",
       "      <td>105</td>\n",
       "      <td>5</td>\n",
       "    </tr>\n",
       "    <tr>\n",
       "      <th>5</th>\n",
       "      <td>106</td>\n",
       "      <td>6</td>\n",
       "    </tr>\n",
       "    <tr>\n",
       "      <th>6</th>\n",
       "      <td>107</td>\n",
       "      <td>7</td>\n",
       "    </tr>\n",
       "    <tr>\n",
       "      <th>7</th>\n",
       "      <td>108</td>\n",
       "      <td>8</td>\n",
       "    </tr>\n",
       "    <tr>\n",
       "      <th>8</th>\n",
       "      <td>109</td>\n",
       "      <td>9</td>\n",
       "    </tr>\n",
       "    <tr>\n",
       "      <th>9</th>\n",
       "      <td>110</td>\n",
       "      <td>10</td>\n",
       "    </tr>\n",
       "  </tbody>\n",
       "</table>\n",
       "</div>"
      ],
      "text/plain": [
       "   ProjectID  EmployeeID\n",
       "0        101           1\n",
       "1        102           2\n",
       "2        103           3\n",
       "3        104           4\n",
       "4        105           5\n",
       "5        106           6\n",
       "6        107           7\n",
       "7        108           8\n",
       "8        109           9\n",
       "9        110          10"
      ]
     },
     "execution_count": 79,
     "metadata": {},
     "output_type": "execute_result"
    }
   ],
   "source": [
    "df_projects.drop('ProjectName', axis=1)\n"
   ]
  },
  {
   "cell_type": "code",
   "execution_count": 80,
   "id": "4d1c0a93",
   "metadata": {},
   "outputs": [
    {
     "data": {
      "text/html": [
       "<div>\n",
       "<style scoped>\n",
       "    .dataframe tbody tr th:only-of-type {\n",
       "        vertical-align: middle;\n",
       "    }\n",
       "\n",
       "    .dataframe tbody tr th {\n",
       "        vertical-align: top;\n",
       "    }\n",
       "\n",
       "    .dataframe thead th {\n",
       "        text-align: right;\n",
       "    }\n",
       "</style>\n",
       "<table border=\"1\" class=\"dataframe\">\n",
       "  <thead>\n",
       "    <tr style=\"text-align: right;\">\n",
       "      <th></th>\n",
       "      <th>ProjectID</th>\n",
       "      <th>EmployeeID</th>\n",
       "      <th>ProjectName</th>\n",
       "    </tr>\n",
       "  </thead>\n",
       "  <tbody>\n",
       "    <tr>\n",
       "      <th>0</th>\n",
       "      <td>101</td>\n",
       "      <td>1</td>\n",
       "      <td>Project Alpha</td>\n",
       "    </tr>\n",
       "    <tr>\n",
       "      <th>1</th>\n",
       "      <td>102</td>\n",
       "      <td>2</td>\n",
       "      <td>Project Beta</td>\n",
       "    </tr>\n",
       "    <tr>\n",
       "      <th>2</th>\n",
       "      <td>103</td>\n",
       "      <td>3</td>\n",
       "      <td>Project Gamma</td>\n",
       "    </tr>\n",
       "    <tr>\n",
       "      <th>3</th>\n",
       "      <td>104</td>\n",
       "      <td>4</td>\n",
       "      <td>Project Delta</td>\n",
       "    </tr>\n",
       "    <tr>\n",
       "      <th>4</th>\n",
       "      <td>105</td>\n",
       "      <td>5</td>\n",
       "      <td>Project Epsilon</td>\n",
       "    </tr>\n",
       "    <tr>\n",
       "      <th>5</th>\n",
       "      <td>106</td>\n",
       "      <td>6</td>\n",
       "      <td>Project Zeta</td>\n",
       "    </tr>\n",
       "    <tr>\n",
       "      <th>6</th>\n",
       "      <td>107</td>\n",
       "      <td>7</td>\n",
       "      <td>Project Eta</td>\n",
       "    </tr>\n",
       "    <tr>\n",
       "      <th>7</th>\n",
       "      <td>108</td>\n",
       "      <td>8</td>\n",
       "      <td>Project Theta</td>\n",
       "    </tr>\n",
       "    <tr>\n",
       "      <th>8</th>\n",
       "      <td>109</td>\n",
       "      <td>9</td>\n",
       "      <td>Project Iota</td>\n",
       "    </tr>\n",
       "    <tr>\n",
       "      <th>9</th>\n",
       "      <td>110</td>\n",
       "      <td>10</td>\n",
       "      <td>Project Kappa</td>\n",
       "    </tr>\n",
       "  </tbody>\n",
       "</table>\n",
       "</div>"
      ],
      "text/plain": [
       "   ProjectID  EmployeeID      ProjectName\n",
       "0        101           1    Project Alpha\n",
       "1        102           2     Project Beta\n",
       "2        103           3    Project Gamma\n",
       "3        104           4    Project Delta\n",
       "4        105           5  Project Epsilon\n",
       "5        106           6     Project Zeta\n",
       "6        107           7      Project Eta\n",
       "7        108           8    Project Theta\n",
       "8        109           9     Project Iota\n",
       "9        110          10    Project Kappa"
      ]
     },
     "execution_count": 80,
     "metadata": {},
     "output_type": "execute_result"
    }
   ],
   "source": [
    "df_projects"
   ]
  },
  {
   "cell_type": "markdown",
   "id": "02eebdd0",
   "metadata": {},
   "source": [
    "11. Apply a transformation to a column (e.g., multiply each value by 2)."
   ]
  },
  {
   "cell_type": "code",
   "execution_count": null,
   "id": "adcb5ac1",
   "metadata": {},
   "outputs": [
    {
     "data": {
      "text/html": [
       "<div>\n",
       "<style scoped>\n",
       "    .dataframe tbody tr th:only-of-type {\n",
       "        vertical-align: middle;\n",
       "    }\n",
       "\n",
       "    .dataframe tbody tr th {\n",
       "        vertical-align: top;\n",
       "    }\n",
       "\n",
       "    .dataframe thead th {\n",
       "        text-align: right;\n",
       "    }\n",
       "</style>\n",
       "<table border=\"1\" class=\"dataframe\">\n",
       "  <thead>\n",
       "    <tr style=\"text-align: right;\">\n",
       "      <th></th>\n",
       "      <th>EmployeeID</th>\n",
       "      <th>Name</th>\n",
       "      <th>Department</th>\n",
       "      <th>Salary</th>\n",
       "    </tr>\n",
       "  </thead>\n",
       "  <tbody>\n",
       "    <tr>\n",
       "      <th>0</th>\n",
       "      <td>1</td>\n",
       "      <td>John</td>\n",
       "      <td>Engineering</td>\n",
       "      <td>110000</td>\n",
       "    </tr>\n",
       "    <tr>\n",
       "      <th>1</th>\n",
       "      <td>2</td>\n",
       "      <td>Anna</td>\n",
       "      <td>Marketing</td>\n",
       "      <td>92000</td>\n",
       "    </tr>\n",
       "    <tr>\n",
       "      <th>2</th>\n",
       "      <td>3</td>\n",
       "      <td>Peter</td>\n",
       "      <td>Engineering</td>\n",
       "      <td>120000</td>\n",
       "    </tr>\n",
       "    <tr>\n",
       "      <th>3</th>\n",
       "      <td>4</td>\n",
       "      <td>Linda</td>\n",
       "      <td>HR</td>\n",
       "      <td>150000</td>\n",
       "    </tr>\n",
       "    <tr>\n",
       "      <th>4</th>\n",
       "      <td>5</td>\n",
       "      <td>James</td>\n",
       "      <td>Marketing</td>\n",
       "      <td>98000</td>\n",
       "    </tr>\n",
       "    <tr>\n",
       "      <th>5</th>\n",
       "      <td>6</td>\n",
       "      <td>Patricia</td>\n",
       "      <td>Engineering</td>\n",
       "      <td>104000</td>\n",
       "    </tr>\n",
       "    <tr>\n",
       "      <th>6</th>\n",
       "      <td>7</td>\n",
       "      <td>Michael</td>\n",
       "      <td>HR</td>\n",
       "      <td>164000</td>\n",
       "    </tr>\n",
       "    <tr>\n",
       "      <th>7</th>\n",
       "      <td>8</td>\n",
       "      <td>Elizabeth</td>\n",
       "      <td>Engineering</td>\n",
       "      <td>134000</td>\n",
       "    </tr>\n",
       "    <tr>\n",
       "      <th>8</th>\n",
       "      <td>9</td>\n",
       "      <td>David</td>\n",
       "      <td>Marketing</td>\n",
       "      <td>86000</td>\n",
       "    </tr>\n",
       "    <tr>\n",
       "      <th>9</th>\n",
       "      <td>10</td>\n",
       "      <td>Susan</td>\n",
       "      <td>HR</td>\n",
       "      <td>180000</td>\n",
       "    </tr>\n",
       "  </tbody>\n",
       "</table>\n",
       "</div>"
      ],
      "text/plain": [
       "   EmployeeID       Name   Department  Salary\n",
       "0           1       John  Engineering  110000\n",
       "1           2       Anna    Marketing   92000\n",
       "2           3      Peter  Engineering  120000\n",
       "3           4      Linda           HR  150000\n",
       "4           5      James    Marketing   98000\n",
       "5           6   Patricia  Engineering  104000\n",
       "6           7    Michael           HR  164000\n",
       "7           8  Elizabeth  Engineering  134000\n",
       "8           9      David    Marketing   86000\n",
       "9          10      Susan           HR  180000"
      ]
     },
     "execution_count": 103,
     "metadata": {},
     "output_type": "execute_result"
    }
   ],
   "source": [
    "temp = df_employees.copy()\n",
    "#temp['Salary'] = df_employees['Salary'].apply(lambda x: x * 2)\n",
    "\n",
    "temp['Salary'] = temp['Salary']*2\n",
    "temp"
   ]
  },
  {
   "cell_type": "code",
   "execution_count": 106,
   "id": "1cb704ea",
   "metadata": {},
   "outputs": [
    {
     "data": {
      "text/html": [
       "<div>\n",
       "<style scoped>\n",
       "    .dataframe tbody tr th:only-of-type {\n",
       "        vertical-align: middle;\n",
       "    }\n",
       "\n",
       "    .dataframe tbody tr th {\n",
       "        vertical-align: top;\n",
       "    }\n",
       "\n",
       "    .dataframe thead th {\n",
       "        text-align: right;\n",
       "    }\n",
       "</style>\n",
       "<table border=\"1\" class=\"dataframe\">\n",
       "  <thead>\n",
       "    <tr style=\"text-align: right;\">\n",
       "      <th></th>\n",
       "      <th>EmployeeID</th>\n",
       "      <th>Name</th>\n",
       "      <th>Department</th>\n",
       "      <th>Salary</th>\n",
       "    </tr>\n",
       "  </thead>\n",
       "  <tbody>\n",
       "    <tr>\n",
       "      <th>0</th>\n",
       "      <td>1</td>\n",
       "      <td>John</td>\n",
       "      <td>Engineering</td>\n",
       "      <td>55000</td>\n",
       "    </tr>\n",
       "    <tr>\n",
       "      <th>1</th>\n",
       "      <td>2</td>\n",
       "      <td>Anna</td>\n",
       "      <td>Marketing</td>\n",
       "      <td>46000</td>\n",
       "    </tr>\n",
       "    <tr>\n",
       "      <th>2</th>\n",
       "      <td>3</td>\n",
       "      <td>Peter</td>\n",
       "      <td>Engineering</td>\n",
       "      <td>60000</td>\n",
       "    </tr>\n",
       "    <tr>\n",
       "      <th>3</th>\n",
       "      <td>4</td>\n",
       "      <td>Linda</td>\n",
       "      <td>HR</td>\n",
       "      <td>75000</td>\n",
       "    </tr>\n",
       "    <tr>\n",
       "      <th>4</th>\n",
       "      <td>5</td>\n",
       "      <td>James</td>\n",
       "      <td>Marketing</td>\n",
       "      <td>49000</td>\n",
       "    </tr>\n",
       "    <tr>\n",
       "      <th>5</th>\n",
       "      <td>6</td>\n",
       "      <td>Patricia</td>\n",
       "      <td>Engineering</td>\n",
       "      <td>52000</td>\n",
       "    </tr>\n",
       "    <tr>\n",
       "      <th>6</th>\n",
       "      <td>7</td>\n",
       "      <td>Michael</td>\n",
       "      <td>HR</td>\n",
       "      <td>82000</td>\n",
       "    </tr>\n",
       "    <tr>\n",
       "      <th>7</th>\n",
       "      <td>8</td>\n",
       "      <td>Elizabeth</td>\n",
       "      <td>Engineering</td>\n",
       "      <td>67000</td>\n",
       "    </tr>\n",
       "    <tr>\n",
       "      <th>8</th>\n",
       "      <td>9</td>\n",
       "      <td>David</td>\n",
       "      <td>Marketing</td>\n",
       "      <td>43000</td>\n",
       "    </tr>\n",
       "    <tr>\n",
       "      <th>9</th>\n",
       "      <td>10</td>\n",
       "      <td>Susan</td>\n",
       "      <td>HR</td>\n",
       "      <td>90000</td>\n",
       "    </tr>\n",
       "  </tbody>\n",
       "</table>\n",
       "</div>"
      ],
      "text/plain": [
       "   EmployeeID       Name   Department  Salary\n",
       "0           1       John  Engineering   55000\n",
       "1           2       Anna    Marketing   46000\n",
       "2           3      Peter  Engineering   60000\n",
       "3           4      Linda           HR   75000\n",
       "4           5      James    Marketing   49000\n",
       "5           6   Patricia  Engineering   52000\n",
       "6           7    Michael           HR   82000\n",
       "7           8  Elizabeth  Engineering   67000\n",
       "8           9      David    Marketing   43000\n",
       "9          10      Susan           HR   90000"
      ]
     },
     "execution_count": 106,
     "metadata": {},
     "output_type": "execute_result"
    }
   ],
   "source": [
    "df_employees"
   ]
  },
  {
   "cell_type": "markdown",
   "id": "cc51d408",
   "metadata": {},
   "source": [
    "12. Add a new column based on an operation on existing columns."
   ]
  },
  {
   "cell_type": "code",
   "execution_count": 107,
   "id": "67f45e34",
   "metadata": {},
   "outputs": [
    {
     "data": {
      "text/html": [
       "<div>\n",
       "<style scoped>\n",
       "    .dataframe tbody tr th:only-of-type {\n",
       "        vertical-align: middle;\n",
       "    }\n",
       "\n",
       "    .dataframe tbody tr th {\n",
       "        vertical-align: top;\n",
       "    }\n",
       "\n",
       "    .dataframe thead th {\n",
       "        text-align: right;\n",
       "    }\n",
       "</style>\n",
       "<table border=\"1\" class=\"dataframe\">\n",
       "  <thead>\n",
       "    <tr style=\"text-align: right;\">\n",
       "      <th></th>\n",
       "      <th>EmployeeID</th>\n",
       "      <th>Name</th>\n",
       "      <th>Department</th>\n",
       "      <th>Salary</th>\n",
       "      <th>Salary_After_Tax</th>\n",
       "    </tr>\n",
       "  </thead>\n",
       "  <tbody>\n",
       "    <tr>\n",
       "      <th>0</th>\n",
       "      <td>1</td>\n",
       "      <td>John</td>\n",
       "      <td>Engineering</td>\n",
       "      <td>55000</td>\n",
       "      <td>45375.0</td>\n",
       "    </tr>\n",
       "    <tr>\n",
       "      <th>1</th>\n",
       "      <td>2</td>\n",
       "      <td>Anna</td>\n",
       "      <td>Marketing</td>\n",
       "      <td>46000</td>\n",
       "      <td>37950.0</td>\n",
       "    </tr>\n",
       "    <tr>\n",
       "      <th>2</th>\n",
       "      <td>3</td>\n",
       "      <td>Peter</td>\n",
       "      <td>Engineering</td>\n",
       "      <td>60000</td>\n",
       "      <td>49500.0</td>\n",
       "    </tr>\n",
       "    <tr>\n",
       "      <th>3</th>\n",
       "      <td>4</td>\n",
       "      <td>Linda</td>\n",
       "      <td>HR</td>\n",
       "      <td>75000</td>\n",
       "      <td>61875.0</td>\n",
       "    </tr>\n",
       "    <tr>\n",
       "      <th>4</th>\n",
       "      <td>5</td>\n",
       "      <td>James</td>\n",
       "      <td>Marketing</td>\n",
       "      <td>49000</td>\n",
       "      <td>40425.0</td>\n",
       "    </tr>\n",
       "    <tr>\n",
       "      <th>5</th>\n",
       "      <td>6</td>\n",
       "      <td>Patricia</td>\n",
       "      <td>Engineering</td>\n",
       "      <td>52000</td>\n",
       "      <td>42900.0</td>\n",
       "    </tr>\n",
       "    <tr>\n",
       "      <th>6</th>\n",
       "      <td>7</td>\n",
       "      <td>Michael</td>\n",
       "      <td>HR</td>\n",
       "      <td>82000</td>\n",
       "      <td>67650.0</td>\n",
       "    </tr>\n",
       "    <tr>\n",
       "      <th>7</th>\n",
       "      <td>8</td>\n",
       "      <td>Elizabeth</td>\n",
       "      <td>Engineering</td>\n",
       "      <td>67000</td>\n",
       "      <td>55275.0</td>\n",
       "    </tr>\n",
       "    <tr>\n",
       "      <th>8</th>\n",
       "      <td>9</td>\n",
       "      <td>David</td>\n",
       "      <td>Marketing</td>\n",
       "      <td>43000</td>\n",
       "      <td>35475.0</td>\n",
       "    </tr>\n",
       "    <tr>\n",
       "      <th>9</th>\n",
       "      <td>10</td>\n",
       "      <td>Susan</td>\n",
       "      <td>HR</td>\n",
       "      <td>90000</td>\n",
       "      <td>74250.0</td>\n",
       "    </tr>\n",
       "  </tbody>\n",
       "</table>\n",
       "</div>"
      ],
      "text/plain": [
       "   EmployeeID       Name   Department  Salary  Salary_After_Tax\n",
       "0           1       John  Engineering   55000           45375.0\n",
       "1           2       Anna    Marketing   46000           37950.0\n",
       "2           3      Peter  Engineering   60000           49500.0\n",
       "3           4      Linda           HR   75000           61875.0\n",
       "4           5      James    Marketing   49000           40425.0\n",
       "5           6   Patricia  Engineering   52000           42900.0\n",
       "6           7    Michael           HR   82000           67650.0\n",
       "7           8  Elizabeth  Engineering   67000           55275.0\n",
       "8           9      David    Marketing   43000           35475.0\n",
       "9          10      Susan           HR   90000           74250.0"
      ]
     },
     "execution_count": 107,
     "metadata": {},
     "output_type": "execute_result"
    }
   ],
   "source": [
    "df_employees['Salary_After_Tax'] = df_employees['Salary'] * 0.825\n",
    "df_employees"
   ]
  },
  {
   "cell_type": "code",
   "execution_count": 108,
   "id": "5789fc90",
   "metadata": {},
   "outputs": [
    {
     "data": {
      "text/html": [
       "<div>\n",
       "<style scoped>\n",
       "    .dataframe tbody tr th:only-of-type {\n",
       "        vertical-align: middle;\n",
       "    }\n",
       "\n",
       "    .dataframe tbody tr th {\n",
       "        vertical-align: top;\n",
       "    }\n",
       "\n",
       "    .dataframe thead th {\n",
       "        text-align: right;\n",
       "    }\n",
       "</style>\n",
       "<table border=\"1\" class=\"dataframe\">\n",
       "  <thead>\n",
       "    <tr style=\"text-align: right;\">\n",
       "      <th></th>\n",
       "      <th>EmployeeID</th>\n",
       "      <th>Name</th>\n",
       "      <th>Department</th>\n",
       "      <th>Salary</th>\n",
       "      <th>Salary_After_Tax</th>\n",
       "    </tr>\n",
       "  </thead>\n",
       "  <tbody>\n",
       "    <tr>\n",
       "      <th>0</th>\n",
       "      <td>1</td>\n",
       "      <td>John</td>\n",
       "      <td>Engineering</td>\n",
       "      <td>55000</td>\n",
       "      <td>45375.0</td>\n",
       "    </tr>\n",
       "    <tr>\n",
       "      <th>1</th>\n",
       "      <td>2</td>\n",
       "      <td>Anna</td>\n",
       "      <td>Marketing</td>\n",
       "      <td>46000</td>\n",
       "      <td>37950.0</td>\n",
       "    </tr>\n",
       "    <tr>\n",
       "      <th>2</th>\n",
       "      <td>3</td>\n",
       "      <td>Peter</td>\n",
       "      <td>Engineering</td>\n",
       "      <td>60000</td>\n",
       "      <td>49500.0</td>\n",
       "    </tr>\n",
       "    <tr>\n",
       "      <th>3</th>\n",
       "      <td>4</td>\n",
       "      <td>Linda</td>\n",
       "      <td>HR</td>\n",
       "      <td>75000</td>\n",
       "      <td>61875.0</td>\n",
       "    </tr>\n",
       "    <tr>\n",
       "      <th>4</th>\n",
       "      <td>5</td>\n",
       "      <td>James</td>\n",
       "      <td>Marketing</td>\n",
       "      <td>49000</td>\n",
       "      <td>40425.0</td>\n",
       "    </tr>\n",
       "    <tr>\n",
       "      <th>5</th>\n",
       "      <td>6</td>\n",
       "      <td>Patricia</td>\n",
       "      <td>Engineering</td>\n",
       "      <td>52000</td>\n",
       "      <td>42900.0</td>\n",
       "    </tr>\n",
       "    <tr>\n",
       "      <th>6</th>\n",
       "      <td>7</td>\n",
       "      <td>Michael</td>\n",
       "      <td>HR</td>\n",
       "      <td>82000</td>\n",
       "      <td>67650.0</td>\n",
       "    </tr>\n",
       "    <tr>\n",
       "      <th>7</th>\n",
       "      <td>8</td>\n",
       "      <td>Elizabeth</td>\n",
       "      <td>Engineering</td>\n",
       "      <td>67000</td>\n",
       "      <td>55275.0</td>\n",
       "    </tr>\n",
       "    <tr>\n",
       "      <th>8</th>\n",
       "      <td>9</td>\n",
       "      <td>David</td>\n",
       "      <td>Marketing</td>\n",
       "      <td>43000</td>\n",
       "      <td>35475.0</td>\n",
       "    </tr>\n",
       "    <tr>\n",
       "      <th>9</th>\n",
       "      <td>10</td>\n",
       "      <td>Susan</td>\n",
       "      <td>HR</td>\n",
       "      <td>90000</td>\n",
       "      <td>74250.0</td>\n",
       "    </tr>\n",
       "  </tbody>\n",
       "</table>\n",
       "</div>"
      ],
      "text/plain": [
       "   EmployeeID       Name   Department  Salary  Salary_After_Tax\n",
       "0           1       John  Engineering   55000           45375.0\n",
       "1           2       Anna    Marketing   46000           37950.0\n",
       "2           3      Peter  Engineering   60000           49500.0\n",
       "3           4      Linda           HR   75000           61875.0\n",
       "4           5      James    Marketing   49000           40425.0\n",
       "5           6   Patricia  Engineering   52000           42900.0\n",
       "6           7    Michael           HR   82000           67650.0\n",
       "7           8  Elizabeth  Engineering   67000           55275.0\n",
       "8           9      David    Marketing   43000           35475.0\n",
       "9          10      Susan           HR   90000           74250.0"
      ]
     },
     "execution_count": 108,
     "metadata": {},
     "output_type": "execute_result"
    }
   ],
   "source": [
    "df_employees"
   ]
  },
  {
   "cell_type": "markdown",
   "id": "4a741fef",
   "metadata": {},
   "source": [
    "13. Group the data by a categorical column and get the mean of each group."
   ]
  },
  {
   "cell_type": "code",
   "execution_count": 114,
   "id": "32b9f368",
   "metadata": {},
   "outputs": [
    {
     "name": "stdout",
     "output_type": "stream",
     "text": [
      "Department\n",
      "Engineering    58500.000000\n",
      "HR             82333.333333\n",
      "Marketing      46000.000000\n",
      "Name: Salary, dtype: float64\n"
     ]
    }
   ],
   "source": [
    "print(df_employees.groupby('Department')['Salary'].mean())\n"
   ]
  },
  {
   "cell_type": "markdown",
   "id": "29a7362d",
   "metadata": {},
   "source": [
    "14. Sort the DataFrame based on a specific column. "
   ]
  },
  {
   "cell_type": "code",
   "execution_count": 116,
   "id": "e311b141",
   "metadata": {},
   "outputs": [
    {
     "data": {
      "text/html": [
       "<div>\n",
       "<style scoped>\n",
       "    .dataframe tbody tr th:only-of-type {\n",
       "        vertical-align: middle;\n",
       "    }\n",
       "\n",
       "    .dataframe tbody tr th {\n",
       "        vertical-align: top;\n",
       "    }\n",
       "\n",
       "    .dataframe thead th {\n",
       "        text-align: right;\n",
       "    }\n",
       "</style>\n",
       "<table border=\"1\" class=\"dataframe\">\n",
       "  <thead>\n",
       "    <tr style=\"text-align: right;\">\n",
       "      <th></th>\n",
       "      <th>EmployeeID</th>\n",
       "      <th>Name</th>\n",
       "      <th>Department</th>\n",
       "      <th>Salary</th>\n",
       "      <th>Salary_After_Tax</th>\n",
       "    </tr>\n",
       "  </thead>\n",
       "  <tbody>\n",
       "    <tr>\n",
       "      <th>1</th>\n",
       "      <td>2</td>\n",
       "      <td>Anna</td>\n",
       "      <td>Marketing</td>\n",
       "      <td>46000</td>\n",
       "      <td>37950.0</td>\n",
       "    </tr>\n",
       "    <tr>\n",
       "      <th>8</th>\n",
       "      <td>9</td>\n",
       "      <td>David</td>\n",
       "      <td>Marketing</td>\n",
       "      <td>43000</td>\n",
       "      <td>35475.0</td>\n",
       "    </tr>\n",
       "    <tr>\n",
       "      <th>7</th>\n",
       "      <td>8</td>\n",
       "      <td>Elizabeth</td>\n",
       "      <td>Engineering</td>\n",
       "      <td>67000</td>\n",
       "      <td>55275.0</td>\n",
       "    </tr>\n",
       "    <tr>\n",
       "      <th>4</th>\n",
       "      <td>5</td>\n",
       "      <td>James</td>\n",
       "      <td>Marketing</td>\n",
       "      <td>49000</td>\n",
       "      <td>40425.0</td>\n",
       "    </tr>\n",
       "    <tr>\n",
       "      <th>0</th>\n",
       "      <td>1</td>\n",
       "      <td>John</td>\n",
       "      <td>Engineering</td>\n",
       "      <td>55000</td>\n",
       "      <td>45375.0</td>\n",
       "    </tr>\n",
       "    <tr>\n",
       "      <th>3</th>\n",
       "      <td>4</td>\n",
       "      <td>Linda</td>\n",
       "      <td>HR</td>\n",
       "      <td>75000</td>\n",
       "      <td>61875.0</td>\n",
       "    </tr>\n",
       "    <tr>\n",
       "      <th>6</th>\n",
       "      <td>7</td>\n",
       "      <td>Michael</td>\n",
       "      <td>HR</td>\n",
       "      <td>82000</td>\n",
       "      <td>67650.0</td>\n",
       "    </tr>\n",
       "    <tr>\n",
       "      <th>5</th>\n",
       "      <td>6</td>\n",
       "      <td>Patricia</td>\n",
       "      <td>Engineering</td>\n",
       "      <td>52000</td>\n",
       "      <td>42900.0</td>\n",
       "    </tr>\n",
       "    <tr>\n",
       "      <th>2</th>\n",
       "      <td>3</td>\n",
       "      <td>Peter</td>\n",
       "      <td>Engineering</td>\n",
       "      <td>60000</td>\n",
       "      <td>49500.0</td>\n",
       "    </tr>\n",
       "    <tr>\n",
       "      <th>9</th>\n",
       "      <td>10</td>\n",
       "      <td>Susan</td>\n",
       "      <td>HR</td>\n",
       "      <td>90000</td>\n",
       "      <td>74250.0</td>\n",
       "    </tr>\n",
       "  </tbody>\n",
       "</table>\n",
       "</div>"
      ],
      "text/plain": [
       "   EmployeeID       Name   Department  Salary  Salary_After_Tax\n",
       "1           2       Anna    Marketing   46000           37950.0\n",
       "8           9      David    Marketing   43000           35475.0\n",
       "7           8  Elizabeth  Engineering   67000           55275.0\n",
       "4           5      James    Marketing   49000           40425.0\n",
       "0           1       John  Engineering   55000           45375.0\n",
       "3           4      Linda           HR   75000           61875.0\n",
       "6           7    Michael           HR   82000           67650.0\n",
       "5           6   Patricia  Engineering   52000           42900.0\n",
       "2           3      Peter  Engineering   60000           49500.0\n",
       "9          10      Susan           HR   90000           74250.0"
      ]
     },
     "execution_count": 116,
     "metadata": {},
     "output_type": "execute_result"
    }
   ],
   "source": [
    "df_employees.sort_values(by='Name')"
   ]
  },
  {
   "cell_type": "markdown",
   "id": "ce791a79",
   "metadata": {},
   "source": [
    "15. Merge two DataFrames on a common column. "
   ]
  },
  {
   "cell_type": "code",
   "execution_count": 130,
   "id": "e0b45954",
   "metadata": {},
   "outputs": [
    {
     "data": {
      "text/html": [
       "<div>\n",
       "<style scoped>\n",
       "    .dataframe tbody tr th:only-of-type {\n",
       "        vertical-align: middle;\n",
       "    }\n",
       "\n",
       "    .dataframe tbody tr th {\n",
       "        vertical-align: top;\n",
       "    }\n",
       "\n",
       "    .dataframe thead th {\n",
       "        text-align: right;\n",
       "    }\n",
       "</style>\n",
       "<table border=\"1\" class=\"dataframe\">\n",
       "  <thead>\n",
       "    <tr style=\"text-align: right;\">\n",
       "      <th></th>\n",
       "      <th>Name</th>\n",
       "      <th>Department</th>\n",
       "      <th>Salary</th>\n",
       "      <th>Salary_After_Tax</th>\n",
       "      <th>DepartmentID</th>\n",
       "      <th>Manager</th>\n",
       "    </tr>\n",
       "  </thead>\n",
       "  <tbody>\n",
       "    <tr>\n",
       "      <th>0</th>\n",
       "      <td>John</td>\n",
       "      <td>Engineering</td>\n",
       "      <td>55000</td>\n",
       "      <td>45375.0</td>\n",
       "      <td>1</td>\n",
       "      <td>John Doe</td>\n",
       "    </tr>\n",
       "    <tr>\n",
       "      <th>1</th>\n",
       "      <td>Anna</td>\n",
       "      <td>Marketing</td>\n",
       "      <td>46000</td>\n",
       "      <td>37950.0</td>\n",
       "      <td>2</td>\n",
       "      <td>Jane Smith</td>\n",
       "    </tr>\n",
       "    <tr>\n",
       "      <th>2</th>\n",
       "      <td>Peter</td>\n",
       "      <td>Engineering</td>\n",
       "      <td>60000</td>\n",
       "      <td>49500.0</td>\n",
       "      <td>1</td>\n",
       "      <td>John Doe</td>\n",
       "    </tr>\n",
       "    <tr>\n",
       "      <th>3</th>\n",
       "      <td>Linda</td>\n",
       "      <td>HR</td>\n",
       "      <td>75000</td>\n",
       "      <td>61875.0</td>\n",
       "      <td>3</td>\n",
       "      <td>Michael Brown</td>\n",
       "    </tr>\n",
       "    <tr>\n",
       "      <th>4</th>\n",
       "      <td>James</td>\n",
       "      <td>Marketing</td>\n",
       "      <td>49000</td>\n",
       "      <td>40425.0</td>\n",
       "      <td>2</td>\n",
       "      <td>Jane Smith</td>\n",
       "    </tr>\n",
       "    <tr>\n",
       "      <th>5</th>\n",
       "      <td>Patricia</td>\n",
       "      <td>Engineering</td>\n",
       "      <td>52000</td>\n",
       "      <td>42900.0</td>\n",
       "      <td>1</td>\n",
       "      <td>John Doe</td>\n",
       "    </tr>\n",
       "    <tr>\n",
       "      <th>6</th>\n",
       "      <td>Michael</td>\n",
       "      <td>HR</td>\n",
       "      <td>82000</td>\n",
       "      <td>67650.0</td>\n",
       "      <td>3</td>\n",
       "      <td>Michael Brown</td>\n",
       "    </tr>\n",
       "    <tr>\n",
       "      <th>7</th>\n",
       "      <td>Elizabeth</td>\n",
       "      <td>Engineering</td>\n",
       "      <td>67000</td>\n",
       "      <td>55275.0</td>\n",
       "      <td>1</td>\n",
       "      <td>John Doe</td>\n",
       "    </tr>\n",
       "    <tr>\n",
       "      <th>8</th>\n",
       "      <td>David</td>\n",
       "      <td>Marketing</td>\n",
       "      <td>43000</td>\n",
       "      <td>35475.0</td>\n",
       "      <td>2</td>\n",
       "      <td>Jane Smith</td>\n",
       "    </tr>\n",
       "    <tr>\n",
       "      <th>9</th>\n",
       "      <td>Susan</td>\n",
       "      <td>HR</td>\n",
       "      <td>90000</td>\n",
       "      <td>74250.0</td>\n",
       "      <td>3</td>\n",
       "      <td>Michael Brown</td>\n",
       "    </tr>\n",
       "  </tbody>\n",
       "</table>\n",
       "</div>"
      ],
      "text/plain": [
       "        Name   Department  Salary  Salary_After_Tax  DepartmentID  \\\n",
       "0       John  Engineering   55000           45375.0             1   \n",
       "1       Anna    Marketing   46000           37950.0             2   \n",
       "2      Peter  Engineering   60000           49500.0             1   \n",
       "3      Linda           HR   75000           61875.0             3   \n",
       "4      James    Marketing   49000           40425.0             2   \n",
       "5   Patricia  Engineering   52000           42900.0             1   \n",
       "6    Michael           HR   82000           67650.0             3   \n",
       "7  Elizabeth  Engineering   67000           55275.0             1   \n",
       "8      David    Marketing   43000           35475.0             2   \n",
       "9      Susan           HR   90000           74250.0             3   \n",
       "\n",
       "         Manager  \n",
       "0       John Doe  \n",
       "1     Jane Smith  \n",
       "2       John Doe  \n",
       "3  Michael Brown  \n",
       "4     Jane Smith  \n",
       "5       John Doe  \n",
       "6  Michael Brown  \n",
       "7       John Doe  \n",
       "8     Jane Smith  \n",
       "9  Michael Brown  "
      ]
     },
     "execution_count": 130,
     "metadata": {},
     "output_type": "execute_result"
    }
   ],
   "source": [
    "df_employees.merge(df_departments, on='Department')"
   ]
  },
  {
   "cell_type": "code",
   "execution_count": 133,
   "id": "47c81ccc",
   "metadata": {},
   "outputs": [
    {
     "data": {
      "text/html": [
       "<div>\n",
       "<style scoped>\n",
       "    .dataframe tbody tr th:only-of-type {\n",
       "        vertical-align: middle;\n",
       "    }\n",
       "\n",
       "    .dataframe tbody tr th {\n",
       "        vertical-align: top;\n",
       "    }\n",
       "\n",
       "    .dataframe thead th {\n",
       "        text-align: right;\n",
       "    }\n",
       "</style>\n",
       "<table border=\"1\" class=\"dataframe\">\n",
       "  <thead>\n",
       "    <tr style=\"text-align: right;\">\n",
       "      <th></th>\n",
       "      <th>EmployeeID</th>\n",
       "      <th>Name</th>\n",
       "      <th>Department</th>\n",
       "      <th>Salary</th>\n",
       "    </tr>\n",
       "  </thead>\n",
       "  <tbody>\n",
       "    <tr>\n",
       "      <th>0</th>\n",
       "      <td>1</td>\n",
       "      <td>John</td>\n",
       "      <td>Engineering</td>\n",
       "      <td>55000</td>\n",
       "    </tr>\n",
       "    <tr>\n",
       "      <th>1</th>\n",
       "      <td>2</td>\n",
       "      <td>Anna</td>\n",
       "      <td>Marketing</td>\n",
       "      <td>46000</td>\n",
       "    </tr>\n",
       "    <tr>\n",
       "      <th>2</th>\n",
       "      <td>3</td>\n",
       "      <td>Peter</td>\n",
       "      <td>Engineering</td>\n",
       "      <td>60000</td>\n",
       "    </tr>\n",
       "    <tr>\n",
       "      <th>3</th>\n",
       "      <td>4</td>\n",
       "      <td>Linda</td>\n",
       "      <td>HR</td>\n",
       "      <td>75000</td>\n",
       "    </tr>\n",
       "    <tr>\n",
       "      <th>4</th>\n",
       "      <td>5</td>\n",
       "      <td>James</td>\n",
       "      <td>Marketing</td>\n",
       "      <td>49000</td>\n",
       "    </tr>\n",
       "    <tr>\n",
       "      <th>5</th>\n",
       "      <td>6</td>\n",
       "      <td>Patricia</td>\n",
       "      <td>Engineering</td>\n",
       "      <td>52000</td>\n",
       "    </tr>\n",
       "    <tr>\n",
       "      <th>6</th>\n",
       "      <td>7</td>\n",
       "      <td>Michael</td>\n",
       "      <td>HR</td>\n",
       "      <td>82000</td>\n",
       "    </tr>\n",
       "    <tr>\n",
       "      <th>7</th>\n",
       "      <td>8</td>\n",
       "      <td>Elizabeth</td>\n",
       "      <td>Engineering</td>\n",
       "      <td>67000</td>\n",
       "    </tr>\n",
       "    <tr>\n",
       "      <th>8</th>\n",
       "      <td>9</td>\n",
       "      <td>David</td>\n",
       "      <td>Marketing</td>\n",
       "      <td>43000</td>\n",
       "    </tr>\n",
       "    <tr>\n",
       "      <th>9</th>\n",
       "      <td>10</td>\n",
       "      <td>Susan</td>\n",
       "      <td>HR</td>\n",
       "      <td>90000</td>\n",
       "    </tr>\n",
       "  </tbody>\n",
       "</table>\n",
       "</div>"
      ],
      "text/plain": [
       "   EmployeeID       Name   Department  Salary\n",
       "0           1       John  Engineering   55000\n",
       "1           2       Anna    Marketing   46000\n",
       "2           3      Peter  Engineering   60000\n",
       "3           4      Linda           HR   75000\n",
       "4           5      James    Marketing   49000\n",
       "5           6   Patricia  Engineering   52000\n",
       "6           7    Michael           HR   82000\n",
       "7           8  Elizabeth  Engineering   67000\n",
       "8           9      David    Marketing   43000\n",
       "9          10      Susan           HR   90000"
      ]
     },
     "execution_count": 133,
     "metadata": {},
     "output_type": "execute_result"
    }
   ],
   "source": [
    "df_employees"
   ]
  },
  {
   "cell_type": "markdown",
   "id": "91d60dce",
   "metadata": {},
   "source": [
    "16. Join two DataFrames using an index."
   ]
  },
  {
   "cell_type": "code",
   "execution_count": 134,
   "id": "2c6dbd4a",
   "metadata": {},
   "outputs": [
    {
     "data": {
      "text/html": [
       "<div>\n",
       "<style scoped>\n",
       "    .dataframe tbody tr th:only-of-type {\n",
       "        vertical-align: middle;\n",
       "    }\n",
       "\n",
       "    .dataframe tbody tr th {\n",
       "        vertical-align: top;\n",
       "    }\n",
       "\n",
       "    .dataframe thead th {\n",
       "        text-align: right;\n",
       "    }\n",
       "</style>\n",
       "<table border=\"1\" class=\"dataframe\">\n",
       "  <thead>\n",
       "    <tr style=\"text-align: right;\">\n",
       "      <th></th>\n",
       "      <th>Name</th>\n",
       "      <th>Department</th>\n",
       "      <th>Salary</th>\n",
       "      <th>DepartmentID</th>\n",
       "      <th>Manager</th>\n",
       "    </tr>\n",
       "    <tr>\n",
       "      <th>EmployeeID</th>\n",
       "      <th></th>\n",
       "      <th></th>\n",
       "      <th></th>\n",
       "      <th></th>\n",
       "      <th></th>\n",
       "    </tr>\n",
       "  </thead>\n",
       "  <tbody>\n",
       "    <tr>\n",
       "      <th>1</th>\n",
       "      <td>John</td>\n",
       "      <td>Engineering</td>\n",
       "      <td>55000</td>\n",
       "      <td>1</td>\n",
       "      <td>John Doe</td>\n",
       "    </tr>\n",
       "    <tr>\n",
       "      <th>2</th>\n",
       "      <td>Anna</td>\n",
       "      <td>Marketing</td>\n",
       "      <td>46000</td>\n",
       "      <td>2</td>\n",
       "      <td>Jane Smith</td>\n",
       "    </tr>\n",
       "    <tr>\n",
       "      <th>3</th>\n",
       "      <td>Peter</td>\n",
       "      <td>Engineering</td>\n",
       "      <td>60000</td>\n",
       "      <td>1</td>\n",
       "      <td>John Doe</td>\n",
       "    </tr>\n",
       "    <tr>\n",
       "      <th>4</th>\n",
       "      <td>Linda</td>\n",
       "      <td>HR</td>\n",
       "      <td>75000</td>\n",
       "      <td>3</td>\n",
       "      <td>Michael Brown</td>\n",
       "    </tr>\n",
       "    <tr>\n",
       "      <th>5</th>\n",
       "      <td>James</td>\n",
       "      <td>Marketing</td>\n",
       "      <td>49000</td>\n",
       "      <td>2</td>\n",
       "      <td>Jane Smith</td>\n",
       "    </tr>\n",
       "    <tr>\n",
       "      <th>6</th>\n",
       "      <td>Patricia</td>\n",
       "      <td>Engineering</td>\n",
       "      <td>52000</td>\n",
       "      <td>1</td>\n",
       "      <td>John Doe</td>\n",
       "    </tr>\n",
       "    <tr>\n",
       "      <th>7</th>\n",
       "      <td>Michael</td>\n",
       "      <td>HR</td>\n",
       "      <td>82000</td>\n",
       "      <td>3</td>\n",
       "      <td>Michael Brown</td>\n",
       "    </tr>\n",
       "    <tr>\n",
       "      <th>8</th>\n",
       "      <td>Elizabeth</td>\n",
       "      <td>Engineering</td>\n",
       "      <td>67000</td>\n",
       "      <td>1</td>\n",
       "      <td>John Doe</td>\n",
       "    </tr>\n",
       "    <tr>\n",
       "      <th>9</th>\n",
       "      <td>David</td>\n",
       "      <td>Marketing</td>\n",
       "      <td>43000</td>\n",
       "      <td>2</td>\n",
       "      <td>Jane Smith</td>\n",
       "    </tr>\n",
       "    <tr>\n",
       "      <th>10</th>\n",
       "      <td>Susan</td>\n",
       "      <td>HR</td>\n",
       "      <td>90000</td>\n",
       "      <td>3</td>\n",
       "      <td>Michael Brown</td>\n",
       "    </tr>\n",
       "  </tbody>\n",
       "</table>\n",
       "</div>"
      ],
      "text/plain": [
       "                 Name   Department  Salary  DepartmentID        Manager\n",
       "EmployeeID                                                             \n",
       "1                John  Engineering   55000             1       John Doe\n",
       "2                Anna    Marketing   46000             2     Jane Smith\n",
       "3               Peter  Engineering   60000             1       John Doe\n",
       "4               Linda           HR   75000             3  Michael Brown\n",
       "5               James    Marketing   49000             2     Jane Smith\n",
       "6            Patricia  Engineering   52000             1       John Doe\n",
       "7             Michael           HR   82000             3  Michael Brown\n",
       "8           Elizabeth  Engineering   67000             1       John Doe\n",
       "9               David    Marketing   43000             2     Jane Smith\n",
       "10              Susan           HR   90000             3  Michael Brown"
      ]
     },
     "execution_count": 134,
     "metadata": {},
     "output_type": "execute_result"
    }
   ],
   "source": [
    "df_employees.merge(df_departments, on='Department').set_index('EmployeeID')\n"
   ]
  },
  {
   "cell_type": "markdown",
   "id": "daa3a044",
   "metadata": {},
   "source": [
    "17. Apply a function to each element in a column using .apply()."
   ]
  },
  {
   "cell_type": "code",
   "execution_count": 137,
   "id": "fa1ccb53",
   "metadata": {},
   "outputs": [
    {
     "data": {
      "text/html": [
       "<div>\n",
       "<style scoped>\n",
       "    .dataframe tbody tr th:only-of-type {\n",
       "        vertical-align: middle;\n",
       "    }\n",
       "\n",
       "    .dataframe tbody tr th {\n",
       "        vertical-align: top;\n",
       "    }\n",
       "\n",
       "    .dataframe thead th {\n",
       "        text-align: right;\n",
       "    }\n",
       "</style>\n",
       "<table border=\"1\" class=\"dataframe\">\n",
       "  <thead>\n",
       "    <tr style=\"text-align: right;\">\n",
       "      <th></th>\n",
       "      <th>EmployeeID</th>\n",
       "      <th>Name</th>\n",
       "      <th>Department</th>\n",
       "      <th>Salary</th>\n",
       "      <th>SalaryAfterTax</th>\n",
       "    </tr>\n",
       "  </thead>\n",
       "  <tbody>\n",
       "    <tr>\n",
       "      <th>0</th>\n",
       "      <td>1</td>\n",
       "      <td>John</td>\n",
       "      <td>Engineering</td>\n",
       "      <td>55000</td>\n",
       "      <td>45375.0</td>\n",
       "    </tr>\n",
       "    <tr>\n",
       "      <th>1</th>\n",
       "      <td>2</td>\n",
       "      <td>Anna</td>\n",
       "      <td>Marketing</td>\n",
       "      <td>46000</td>\n",
       "      <td>37950.0</td>\n",
       "    </tr>\n",
       "    <tr>\n",
       "      <th>2</th>\n",
       "      <td>3</td>\n",
       "      <td>Peter</td>\n",
       "      <td>Engineering</td>\n",
       "      <td>60000</td>\n",
       "      <td>49500.0</td>\n",
       "    </tr>\n",
       "    <tr>\n",
       "      <th>3</th>\n",
       "      <td>4</td>\n",
       "      <td>Linda</td>\n",
       "      <td>HR</td>\n",
       "      <td>75000</td>\n",
       "      <td>61875.0</td>\n",
       "    </tr>\n",
       "    <tr>\n",
       "      <th>4</th>\n",
       "      <td>5</td>\n",
       "      <td>James</td>\n",
       "      <td>Marketing</td>\n",
       "      <td>49000</td>\n",
       "      <td>40425.0</td>\n",
       "    </tr>\n",
       "    <tr>\n",
       "      <th>5</th>\n",
       "      <td>6</td>\n",
       "      <td>Patricia</td>\n",
       "      <td>Engineering</td>\n",
       "      <td>52000</td>\n",
       "      <td>42900.0</td>\n",
       "    </tr>\n",
       "    <tr>\n",
       "      <th>6</th>\n",
       "      <td>7</td>\n",
       "      <td>Michael</td>\n",
       "      <td>HR</td>\n",
       "      <td>82000</td>\n",
       "      <td>67650.0</td>\n",
       "    </tr>\n",
       "    <tr>\n",
       "      <th>7</th>\n",
       "      <td>8</td>\n",
       "      <td>Elizabeth</td>\n",
       "      <td>Engineering</td>\n",
       "      <td>67000</td>\n",
       "      <td>55275.0</td>\n",
       "    </tr>\n",
       "    <tr>\n",
       "      <th>8</th>\n",
       "      <td>9</td>\n",
       "      <td>David</td>\n",
       "      <td>Marketing</td>\n",
       "      <td>43000</td>\n",
       "      <td>35475.0</td>\n",
       "    </tr>\n",
       "    <tr>\n",
       "      <th>9</th>\n",
       "      <td>10</td>\n",
       "      <td>Susan</td>\n",
       "      <td>HR</td>\n",
       "      <td>90000</td>\n",
       "      <td>74250.0</td>\n",
       "    </tr>\n",
       "  </tbody>\n",
       "</table>\n",
       "</div>"
      ],
      "text/plain": [
       "   EmployeeID       Name   Department  Salary  SalaryAfterTax\n",
       "0           1       John  Engineering   55000         45375.0\n",
       "1           2       Anna    Marketing   46000         37950.0\n",
       "2           3      Peter  Engineering   60000         49500.0\n",
       "3           4      Linda           HR   75000         61875.0\n",
       "4           5      James    Marketing   49000         40425.0\n",
       "5           6   Patricia  Engineering   52000         42900.0\n",
       "6           7    Michael           HR   82000         67650.0\n",
       "7           8  Elizabeth  Engineering   67000         55275.0\n",
       "8           9      David    Marketing   43000         35475.0\n",
       "9          10      Susan           HR   90000         74250.0"
      ]
     },
     "execution_count": 137,
     "metadata": {},
     "output_type": "execute_result"
    }
   ],
   "source": [
    "df_employees['SalaryAfterTax'] = df_employees['Salary'].apply(lambda x: x * 0.825)\n",
    "df_employees"
   ]
  },
  {
   "cell_type": "markdown",
   "id": "d435270c",
   "metadata": {},
   "source": [
    "18. Create a new DataFrame by filtering rows based on multiple conditions."
   ]
  },
  {
   "cell_type": "code",
   "execution_count": 140,
   "id": "d5739e4b",
   "metadata": {},
   "outputs": [
    {
     "data": {
      "text/html": [
       "<div>\n",
       "<style scoped>\n",
       "    .dataframe tbody tr th:only-of-type {\n",
       "        vertical-align: middle;\n",
       "    }\n",
       "\n",
       "    .dataframe tbody tr th {\n",
       "        vertical-align: top;\n",
       "    }\n",
       "\n",
       "    .dataframe thead th {\n",
       "        text-align: right;\n",
       "    }\n",
       "</style>\n",
       "<table border=\"1\" class=\"dataframe\">\n",
       "  <thead>\n",
       "    <tr style=\"text-align: right;\">\n",
       "      <th></th>\n",
       "      <th>EmployeeID</th>\n",
       "      <th>Name</th>\n",
       "      <th>Department</th>\n",
       "      <th>Salary</th>\n",
       "      <th>SalaryAfterTax</th>\n",
       "    </tr>\n",
       "  </thead>\n",
       "  <tbody>\n",
       "    <tr>\n",
       "      <th>3</th>\n",
       "      <td>4</td>\n",
       "      <td>Linda</td>\n",
       "      <td>HR</td>\n",
       "      <td>75000</td>\n",
       "      <td>61875.0</td>\n",
       "    </tr>\n",
       "    <tr>\n",
       "      <th>6</th>\n",
       "      <td>7</td>\n",
       "      <td>Michael</td>\n",
       "      <td>HR</td>\n",
       "      <td>82000</td>\n",
       "      <td>67650.0</td>\n",
       "    </tr>\n",
       "    <tr>\n",
       "      <th>9</th>\n",
       "      <td>10</td>\n",
       "      <td>Susan</td>\n",
       "      <td>HR</td>\n",
       "      <td>90000</td>\n",
       "      <td>74250.0</td>\n",
       "    </tr>\n",
       "  </tbody>\n",
       "</table>\n",
       "</div>"
      ],
      "text/plain": [
       "   EmployeeID     Name Department  Salary  SalaryAfterTax\n",
       "3           4    Linda         HR   75000         61875.0\n",
       "6           7  Michael         HR   82000         67650.0\n",
       "9          10    Susan         HR   90000         74250.0"
      ]
     },
     "execution_count": 140,
     "metadata": {},
     "output_type": "execute_result"
    }
   ],
   "source": [
    "FwmC = df_employees[(df_employees['Salary'] > 60000) & (df_employees['Department'] == 'HR')]\n",
    "FwmC"
   ]
  },
  {
   "cell_type": "markdown",
   "id": "3f0828f0",
   "metadata": {},
   "source": [
    "19. Convert a column from string to a numeric type. "
   ]
  },
  {
   "cell_type": "code",
   "execution_count": 143,
   "id": "a02a2f50",
   "metadata": {},
   "outputs": [
    {
     "data": {
      "text/plain": [
       "EmployeeID         object\n",
       "Name               object\n",
       "Department         object\n",
       "Salary              int64\n",
       "SalaryAfterTax    float64\n",
       "dtype: object"
      ]
     },
     "execution_count": 143,
     "metadata": {},
     "output_type": "execute_result"
    }
   ],
   "source": [
    "df_employees['EmployeeID'] = df_employees['EmployeeID'].astype(str)\n",
    "df_employees.dtypes\n"
   ]
  },
  {
   "cell_type": "code",
   "execution_count": 145,
   "id": "9bce3ead",
   "metadata": {},
   "outputs": [
    {
     "data": {
      "text/plain": [
       "EmployeeID          int64\n",
       "Name               object\n",
       "Department         object\n",
       "Salary              int64\n",
       "SalaryAfterTax    float64\n",
       "dtype: object"
      ]
     },
     "execution_count": 145,
     "metadata": {},
     "output_type": "execute_result"
    }
   ],
   "source": [
    "df_employees['EmployeeID'] = df_employees['EmployeeID'].astype(int)\n",
    "df_employees.dtypes"
   ]
  },
  {
   "cell_type": "code",
   "execution_count": 148,
   "id": "741cc20a",
   "metadata": {},
   "outputs": [],
   "source": [
    "df_employees.to_csv('syed_file.csv', index=False)"
   ]
  },
  {
   "cell_type": "markdown",
   "id": "3c9d9260",
   "metadata": {},
   "source": [
    "2nd Week Friday Presentation "
   ]
  },
  {
   "cell_type": "code",
   "execution_count": 4,
   "id": "eb0387d4",
   "metadata": {},
   "outputs": [
    {
     "name": "stdout",
     "output_type": "stream",
     "text": [
      "1     1     1    \n",
      "2     4     8    \n",
      "3     9     27   \n",
      "4     16    64   \n",
      "5     25    125  \n"
     ]
    }
   ],
   "source": [
    "for i in range (1, 6):\n",
    "    print (f\"{i:<5} {i**2:<5} {i**3:<5}\")"
   ]
  },
  {
   "cell_type": "code",
   "execution_count": 5,
   "id": "bcba7308",
   "metadata": {},
   "outputs": [
    {
     "name": "stdout",
     "output_type": "stream",
     "text": [
      "Hello syed\n"
     ]
    }
   ],
   "source": [
    "name = input(\"Enter your name: \")\n",
    "print (\"Hello\", name)"
   ]
  },
  {
   "cell_type": "code",
   "execution_count": 6,
   "id": "71109b32",
   "metadata": {},
   "outputs": [
    {
     "name": "stdout",
     "output_type": "stream",
     "text": [
      "Hello World\n"
     ]
    }
   ],
   "source": [
    "print(\"Hello World\")"
   ]
  },
  {
   "cell_type": "code",
   "execution_count": 10,
   "id": "dfbd23db",
   "metadata": {},
   "outputs": [
    {
     "name": "stdout",
     "output_type": "stream",
     "text": [
      "Sum is : 9\n"
     ]
    }
   ],
   "source": [
    "a = int(input(\"Enter first number: \"))\n",
    "b = int(input(\"Enter second number: \"))\n",
    "print (\"Sum is :\", a + b)"
   ]
  },
  {
   "cell_type": "code",
   "execution_count": 11,
   "id": "3dd72834",
   "metadata": {},
   "outputs": [
    {
     "name": "stdout",
     "output_type": "stream",
     "text": [
      "Hello syed, you are 25 years old.\n",
      "Hello syed, you are 25 years old.\n"
     ]
    }
   ],
   "source": [
    "name = \"syed\"\n",
    "age = 25\n",
    "print (f\"Hello {name}, you are {age} years old.\")\n",
    "print (\"Hello {0}, you are {1} years old.\".format(name, age))"
   ]
  },
  {
   "cell_type": "code",
   "execution_count": 13,
   "id": "47dfb46f",
   "metadata": {},
   "outputs": [
    {
     "name": "stdout",
     "output_type": "stream",
     "text": [
      "Pi value rounded to 2 decimal places is 3.14\n",
      "Area of circle with radius 5 is 78.54\n"
     ]
    }
   ],
   "source": [
    "pi = 3.14159\n",
    "radius = 5\n",
    "print (f\"Pi value rounded to 2 decimal places is {pi:.2f}\")\n",
    "print (f\"Area of circle with radius {radius} is {pi * radius ** 2:.2f}\")"
   ]
  },
  {
   "cell_type": "code",
   "execution_count": 14,
   "id": "cc02870e",
   "metadata": {},
   "outputs": [
    {
     "name": "stdout",
     "output_type": "stream",
     "text": [
      "1     1     1    \n",
      "2     4     8    \n",
      "3     9     27   \n",
      "4     16    64   \n",
      "5     25    125  \n",
      "6     36    216  \n",
      "7     49    343  \n",
      "8     64    512  \n",
      "9     81    729  \n",
      "10    100   1000 \n"
     ]
    }
   ],
   "source": [
    "for i in range(1, 11):\n",
    "    print (f\"{i:<5} {i**2:<5} {i**3:<5}\")"
   ]
  },
  {
   "cell_type": "code",
   "execution_count": 15,
   "id": "ac5ffa05",
   "metadata": {},
   "outputs": [
    {
     "name": "stdout",
     "output_type": "stream",
     "text": [
      "1,234,567.89\n"
     ]
    }
   ],
   "source": [
    "number = 1234567.8912\n",
    "print(f\"{number:,.2f}\")"
   ]
  },
  {
   "cell_type": "code",
   "execution_count": 18,
   "id": "1f160d6c",
   "metadata": {},
   "outputs": [
    {
     "name": "stdout",
     "output_type": "stream",
     "text": [
      "left       |   center   |      right\n"
     ]
    }
   ],
   "source": [
    "print (\"{:<10} | {:^10} | {:>10}\".format(\"left\", \"center\", \"right\"))"
   ]
  },
  {
   "cell_type": "code",
   "execution_count": 20,
   "id": "4d5843cc",
   "metadata": {},
   "outputs": [
    {
     "name": "stdout",
     "output_type": "stream",
     "text": [
      "Hello syed, you are 25 years old.\n"
     ]
    }
   ],
   "source": [
    "person = {\"name\": \"syed\", \"age\": 25}\n",
    "print (f\"Hello {person['name']}, you are {person['age']} years old.\")"
   ]
  },
  {
   "cell_type": "code",
   "execution_count": 21,
   "id": "6b0f6335",
   "metadata": {},
   "outputs": [],
   "source": [
    "class person:\n",
    "    def __init__(self, name, age):\n",
    "        self.name = name\n",
    "        self.age = age\n",
    "\n",
    "    def greet(self):\n",
    "        print(f\"Hello {self.name}, you are {self.age} years old.\")"
   ]
  },
  {
   "cell_type": "code",
   "execution_count": 24,
   "id": "9beec2f0",
   "metadata": {},
   "outputs": [
    {
     "name": "stdout",
     "output_type": "stream",
     "text": [
      "[['syed', 25], ['john', 30], ['jane', 28]]\n"
     ]
    }
   ],
   "source": [
    "from tabulate import tabulate\n",
    "data = [[\"syed\", 25], [\"john\", 30], [\"jane\", 28]]\n",
    "print(data)"
   ]
  },
  {
   "cell_type": "code",
   "execution_count": 25,
   "id": "4ad1ab2d",
   "metadata": {},
   "outputs": [
    {
     "name": "stdout",
     "output_type": "stream",
     "text": [
      "+--------+-------+\n",
      "| Name   |   Age |\n",
      "+========+=======+\n",
      "| syed   |    25 |\n",
      "+--------+-------+\n",
      "| john   |    30 |\n",
      "+--------+-------+\n",
      "| jane   |    28 |\n",
      "+--------+-------+\n"
     ]
    }
   ],
   "source": [
    "print(tabulate(data, headers=[\"Name\", \"Age\"], tablefmt=\"grid\"))"
   ]
  },
  {
   "cell_type": "code",
   "execution_count": 28,
   "id": "a2068830",
   "metadata": {},
   "outputs": [],
   "source": [
    "import textwrap"
   ]
  },
  {
   "cell_type": "code",
   "execution_count": 29,
   "id": "e16ae89a",
   "metadata": {},
   "outputs": [
    {
     "data": {
      "text/plain": [
       "'Hello World! This is\\na long string that\\nneeds to be wrapped.'"
      ]
     },
     "execution_count": 29,
     "metadata": {},
     "output_type": "execute_result"
    }
   ],
   "source": [
    "textwrap.fill(\"Hello World! This is a long string that needs to be wrapped.\", width=20)"
   ]
  },
  {
   "cell_type": "code",
   "execution_count": 32,
   "id": "2ba4a86a",
   "metadata": {},
   "outputs": [
    {
     "name": "stdout",
     "output_type": "stream",
     "text": [
      "That was funny event:  😀\n"
     ]
    }
   ],
   "source": [
    "print(\"That was funny event: \",'\\U0001F600')"
   ]
  },
  {
   "cell_type": "code",
   "execution_count": 35,
   "id": "cc3578b0",
   "metadata": {},
   "outputs": [
    {
     "name": "stdout",
     "output_type": "stream",
     "text": [
      "\u001b[91mHello World!\u001b[0m\n",
      "\u001b[92mHello World!\u001b[0m\n",
      "\u001b[1mHello World!\u001b[0m\n",
      "\u001b[0mHello World!\u001b[0m\n"
     ]
    }
   ],
   "source": [
    "print(\"\\033[91m\" + \"Hello World!\" + \"\\033[0m\")\n",
    "print(\"\\033[92m\" + \"Hello World!\" + \"\\033[0m\")\n",
    "print(\"\\033[1m\" + \"Hello World!\" + \"\\033[0m\")\n",
    "print(\"\\033[0m\" + \"Hello World!\" + \"\\033[0m\")"
   ]
  },
  {
   "cell_type": "code",
   "execution_count": null,
   "id": "3576f2ff",
   "metadata": {},
   "outputs": [],
   "source": []
  }
 ],
 "metadata": {
  "kernelspec": {
   "display_name": "Python 3",
   "language": "python",
   "name": "python3"
  },
  "language_info": {
   "codemirror_mode": {
    "name": "ipython",
    "version": 3
   },
   "file_extension": ".py",
   "mimetype": "text/x-python",
   "name": "python",
   "nbconvert_exporter": "python",
   "pygments_lexer": "ipython3",
   "version": "3.13.3"
  }
 },
 "nbformat": 4,
 "nbformat_minor": 5
}
